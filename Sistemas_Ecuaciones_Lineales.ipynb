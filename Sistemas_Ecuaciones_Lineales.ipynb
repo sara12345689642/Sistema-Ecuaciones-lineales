{
  "nbformat": 4,
  "nbformat_minor": 0,
  "metadata": {
    "colab": {
      "provenance": [],
      "authorship_tag": "ABX9TyPqoPEjuDEnrGB3+yFiMXlS",
      "include_colab_link": true
    },
    "kernelspec": {
      "name": "python3",
      "display_name": "Python 3"
    },
    "language_info": {
      "name": "python"
    }
  },
  "cells": [
    {
      "cell_type": "markdown",
      "metadata": {
        "id": "view-in-github",
        "colab_type": "text"
      },
      "source": [
        "<a href=\"https://colab.research.google.com/github/sara12345689642/Sistema-Ecuaciones-lineales/blob/main/Sistemas_Ecuaciones_Lineales.ipynb\" target=\"_parent\"><img src=\"https://colab.research.google.com/assets/colab-badge.svg\" alt=\"Open In Colab\"/></a>"
      ]
    },
    {
      "cell_type": "markdown",
      "source": [
        " Eliminacion de Gauss(planteamiento 1)"
      ],
      "metadata": {
        "id": "NkFCkYAWp3LM"
      }
    },
    {
      "cell_type": "code",
      "execution_count": 1,
      "metadata": {
        "colab": {
          "base_uri": "https://localhost:8080/"
        },
        "id": "aCfxfvlInlc1",
        "outputId": "35ad5882-9086-444d-8c25-5e72b402e860"
      },
      "outputs": [
        {
          "output_type": "stream",
          "name": "stdout",
          "text": [
            "Solución del sistema:\n",
            "x = -1.3000, y = 0.4000, z = 1.9000\n"
          ]
        }
      ],
      "source": [
        "import numpy as np\n",
        "\n",
        "# Matriz de coeficientes\n",
        "A = np.array([[2, 3, 1],\n",
        "              [4, 1, 2],\n",
        "              [3, 4, 2]], dtype=float)\n",
        "\n",
        "# Vector de términos independientes\n",
        "b = np.array([0.5, -1.0, 1.5], dtype=float)\n",
        "\n",
        "# Resolviendo el sistema de ecuaciones usando eliminación de Gauss\n",
        "sol = np.linalg.solve(A, b)\n",
        "\n",
        "# Mostrar la solución\n",
        "print(\"Solución del sistema:\")\n",
        "print(f\"x = {sol[0]:.4f}, y = {sol[1]:.4f}, z = {sol[2]:.4f}\")"
      ]
    },
    {
      "cell_type": "markdown",
      "source": [
        "Método de la matriz inversa (planteamiento 2)"
      ],
      "metadata": {
        "id": "QtCHmHKXo-lq"
      }
    },
    {
      "cell_type": "code",
      "source": [
        "import numpy as np\n",
        "\n",
        "# Matriz de coeficientes\n",
        "A = np.array([[3, -0.1, -0.2],\n",
        "              [0.1, 0.7, -0.3],\n",
        "              [0.3, -0.2, 10]], dtype=float)\n",
        "\n",
        "# Vector de términos independientes\n",
        "b = np.array([7.85, -19.3, 71.4], dtype=float)\n",
        "\n",
        "# Resolviendo el sistema de ecuaciones usando eliminación de Gauss\n",
        "sol = np.linalg.solve(A, b)\n",
        "\n",
        "# Mostrar la solución\n",
        "print(\"Solución del sistema:\")\n",
        "print(f\"x = {sol[0]:.4f}, y = {sol[1]:.4f}, z = {sol[2]:.4f}\")"
      ],
      "metadata": {
        "colab": {
          "base_uri": "https://localhost:8080/"
        },
        "id": "6gBg2xoapFak",
        "outputId": "9f57f80a-6dd0-4d3f-bfc5-872f3eca2525"
      },
      "execution_count": 2,
      "outputs": [
        {
          "output_type": "stream",
          "name": "stdout",
          "text": [
            "Solución del sistema:\n",
            "x = 2.2191, y = -25.0719, z = 6.5720\n"
          ]
        }
      ]
    },
    {
      "cell_type": "markdown",
      "source": [
        "Jacobi (planteamiento 3)"
      ],
      "metadata": {
        "id": "d7PFRVuZpLev"
      }
    },
    {
      "cell_type": "code",
      "source": [
        "def jacobi(A, b, x0, tol=1e-10, max_iter=1000): # Definimos Jacobi\n",
        "    n = len(b)\n",
        "    x = x0 # Aproximacion inicial al vector\n",
        "    for k in range(max_iter):\n",
        "        x_new = np.zeros_like(x) # Vextor nuevo lleno de ceros para almacenar los numeros que va a calcular\n",
        "        for i in range(n): # Iterar por cada una de las filas\n",
        "            s = sum(A[i][j] * x[j] for j in range(n) if i != j) # Calcular terminos que no incluya x_i (Suma de los productos)\n",
        "            x_new[i] = (b[i] - s) / A[i][i] # Actualizar la estimación\n",
        "        if np.linalg.norm(x_new - x, ord=np.inf) < tol: # Verificar la convergencia (Tolerancia para la convergencia 10^-10)\n",
        "            return x_new\n",
        "        x = x_new\n",
        "    return x\n",
        "\n",
        "# Matriz de coeficientes\n",
        "A = np.array([[3, -0.1, -0.2],\n",
        "              [0.1, 0.7, -0.3],\n",
        "              [0.3, -0.2, 10]], dtype=float)\n",
        "\n",
        "# Vector de errores\n",
        "b = np.array([7.85, -19.3, 71.4], dtype=float)\n",
        "\n",
        "# Aproximación inicial\n",
        "x0 = np.zeros_like(b)\n",
        "\n",
        "# Aplicar el método de Jacobi\n",
        "sol = jacobi(A, b, x0)\n",
        "\n",
        "print(\"Pesos ajustados usando Jacobi:\")\n",
        "print(sol)"
      ],
      "metadata": {
        "colab": {
          "base_uri": "https://localhost:8080/"
        },
        "id": "qUYix778pRmP",
        "outputId": "491b9755-8bf4-4df4-d873-ed09fb63e44a"
      },
      "execution_count": 3,
      "outputs": [
        {
          "output_type": "stream",
          "name": "stdout",
          "text": [
            "Pesos ajustados usando Jacobi:\n",
            "[  2.21907032 -25.07187128   6.57199046]\n"
          ]
        }
      ]
    },
    {
      "cell_type": "markdown",
      "source": [
        "Método Iterativo de Gauss-Seidel(planteamiento 4)"
      ],
      "metadata": {
        "id": "VIHROu8VrCv-"
      }
    },
    {
      "cell_type": "code",
      "source": [
        "def gauss_seidel(A, b, x0, tol=1e-10, max_iter=1000):\n",
        "    n = len(b)\n",
        "    x = x0\n",
        "    for k in range(max_iter):\n",
        "        x_new = np.copy(x)\n",
        "        for i in range(n):\n",
        "            s1 = sum(A[i][j] * x_new[j] for j in range(i))\n",
        "            s2 = sum(A[i][j] * x[j] for j in range(i+1, n))\n",
        "            x_new[i] = (b[i] - s1 - s2) / A[i][i]\n",
        "        if np.linalg.norm(x_new - x, ord=np.inf) < tol:\n",
        "            return x_new, k\n",
        "        x = x_new\n",
        "    return x, max_iter\n",
        "\n",
        "# Matriz de coeficientes\n",
        "A = np.array([[10, -1, 2],\n",
        "              [-1, 11, -1],\n",
        "              [2, -1, 10]], dtype=float)\n",
        "\n",
        "# Vector de términos independientes\n",
        "b = np.array([5, 6, 7], dtype=float)\n",
        "\n",
        "# Valor inicial de las incógnitas\n",
        "x0 = np.zeros_like(b)\n",
        "\n",
        "# Resolver el sistema usando el método de Gauss-Seidel\n",
        "sol, iteraciones = gauss_seidel(A, b, x0)\n",
        "\n",
        "# Mostrar la solución y el número de iteraciones\n",
        "print(\"Solución del sistema:\")\n",
        "print(sol)\n",
        "print(f\"Número de iteraciones: {iteraciones}\")"
      ],
      "metadata": {
        "colab": {
          "base_uri": "https://localhost:8080/"
        },
        "id": "bGHBAJ4orLX0",
        "outputId": "b672c96c-a04d-431b-db70-06d300547f7c"
      },
      "execution_count": 4,
      "outputs": [
        {
          "output_type": "stream",
          "name": "stdout",
          "text": [
            "Solución del sistema:\n",
            "[0.42884615 0.64615385 0.67884615]\n",
            "Número de iteraciones: 8\n"
          ]
        }
      ]
    },
    {
      "cell_type": "markdown",
      "source": [
        "Descomposición de Cholesky aplicada a una red neuronal(planteamiento 5)"
      ],
      "metadata": {
        "id": "9FScbbFwrM-B"
      }
    },
    {
      "cell_type": "code",
      "source": [
        "from scipy.linalg import cholesky\n",
        "\n",
        "# Matriz y vector\n",
        "A = np.array([[25, 15, -5],\n",
        "              [15, 18, 0],\n",
        "              [-5, 0, 11]], dtype=float)\n",
        "\n",
        "b = np.array([350, 400, 200], dtype=float)\n",
        "\n",
        "# Descomposición de Cholesky\n",
        "L = cholesky(A, lower=True)\n",
        "\n",
        "# Resolver Ly = b\n",
        "y = np.linalg.solve(L, b)\n",
        "\n",
        "# Resolver L^T x = y\n",
        "x = np.linalg.solve(L.T, y)\n",
        "\n",
        "print(\"Pesos ajustados usando Cholesky:\")\n",
        "print(x)"
      ],
      "metadata": {
        "colab": {
          "base_uri": "https://localhost:8080/"
        },
        "id": "LExzuzWXrVGO",
        "outputId": "bc4254d1-4d58-4d60-d3c5-4485e4f4d97a"
      },
      "execution_count": 5,
      "outputs": [
        {
          "output_type": "stream",
          "name": "stdout",
          "text": [
            "Pesos ajustados usando Cholesky:\n",
            "[10.51851852 13.45679012 22.96296296]\n"
          ]
        }
      ]
    }
  ]
}